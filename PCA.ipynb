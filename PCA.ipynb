{
 "cells": [
  {
   "cell_type": "code",
   "execution_count": 1,
   "metadata": {},
   "outputs": [],
   "source": [
    "# Sometimes the data may have too many variables such that most of the variables are correlated\n",
    "\n",
    "#Model on the whole data => poor accuracy\n",
    "\n",
    "# Soln- PCA\n",
    "\n",
    "# Working principle of PCA - dimensionality reduction\n",
    "\n",
    "# PCA - method of extracting important variables with a motive to capture as much info as possible\n",
    "#     - extracts low dimensional set of variables from a high dimensional set\n",
    "\n",
    "# Here we are not going to predict y\n",
    "# The PCA unsupervised learning approach tries to learn the strength of relationship of varaiables\n"
   ]
  },
  {
   "cell_type": "code",
   "execution_count": 2,
   "metadata": {},
   "outputs": [],
   "source": [
    "# Analysing eating habit, excercise habit and body shape"
   ]
  },
  {
   "cell_type": "code",
   "execution_count": 3,
   "metadata": {},
   "outputs": [],
   "source": [
    "import pandas as pd"
   ]
  },
  {
   "cell_type": "code",
   "execution_count": 5,
   "metadata": {},
   "outputs": [],
   "source": [
    "d=pd.DataFrame(columns=['Calory','Breakfast','Lunch','Dinner','Excercise','Body Shape'])"
   ]
  },
  {
   "cell_type": "code",
   "execution_count": 6,
   "metadata": {},
   "outputs": [],
   "source": [
    "d.loc[0]=[1200,1,0,0,2,'Skinny']\n",
    "d.loc[1]=[2800,1,1,1,1,'Fat']\n",
    "d.loc[2]=[3500,2,2,1,0,'Skinny']\n",
    "d.loc[3]=[1400,0,1,0,3,'Skinny']\n",
    "d.loc[4]=[1600,1,0,2,0,'Normal']\n",
    "d.loc[5]=[3200,1,2,1,1,'Fat']\n",
    "d.loc[6]=[1750,1,0,0,1,'Skinny']\n",
    "d.loc[7]=[1600,1,0,0,0,'Skinny']"
   ]
  },
  {
   "cell_type": "code",
   "execution_count": 8,
   "metadata": {},
   "outputs": [
    {
     "data": {
      "text/html": [
       "<div>\n",
       "<style scoped>\n",
       "    .dataframe tbody tr th:only-of-type {\n",
       "        vertical-align: middle;\n",
       "    }\n",
       "\n",
       "    .dataframe tbody tr th {\n",
       "        vertical-align: top;\n",
       "    }\n",
       "\n",
       "    .dataframe thead th {\n",
       "        text-align: right;\n",
       "    }\n",
       "</style>\n",
       "<table border=\"1\" class=\"dataframe\">\n",
       "  <thead>\n",
       "    <tr style=\"text-align: right;\">\n",
       "      <th></th>\n",
       "      <th>Calory</th>\n",
       "      <th>Breakfast</th>\n",
       "      <th>Lunch</th>\n",
       "      <th>Dinner</th>\n",
       "      <th>Excercise</th>\n",
       "      <th>Body Shape</th>\n",
       "    </tr>\n",
       "  </thead>\n",
       "  <tbody>\n",
       "    <tr>\n",
       "      <th>0</th>\n",
       "      <td>1200</td>\n",
       "      <td>1</td>\n",
       "      <td>0</td>\n",
       "      <td>0</td>\n",
       "      <td>2</td>\n",
       "      <td>Skinny</td>\n",
       "    </tr>\n",
       "    <tr>\n",
       "      <th>1</th>\n",
       "      <td>2800</td>\n",
       "      <td>1</td>\n",
       "      <td>1</td>\n",
       "      <td>1</td>\n",
       "      <td>1</td>\n",
       "      <td>Fat</td>\n",
       "    </tr>\n",
       "    <tr>\n",
       "      <th>2</th>\n",
       "      <td>3500</td>\n",
       "      <td>2</td>\n",
       "      <td>2</td>\n",
       "      <td>1</td>\n",
       "      <td>0</td>\n",
       "      <td>Skinny</td>\n",
       "    </tr>\n",
       "    <tr>\n",
       "      <th>3</th>\n",
       "      <td>1400</td>\n",
       "      <td>0</td>\n",
       "      <td>1</td>\n",
       "      <td>0</td>\n",
       "      <td>3</td>\n",
       "      <td>Skinny</td>\n",
       "    </tr>\n",
       "    <tr>\n",
       "      <th>4</th>\n",
       "      <td>1600</td>\n",
       "      <td>1</td>\n",
       "      <td>0</td>\n",
       "      <td>2</td>\n",
       "      <td>0</td>\n",
       "      <td>Normal</td>\n",
       "    </tr>\n",
       "    <tr>\n",
       "      <th>5</th>\n",
       "      <td>3200</td>\n",
       "      <td>1</td>\n",
       "      <td>2</td>\n",
       "      <td>1</td>\n",
       "      <td>1</td>\n",
       "      <td>Fat</td>\n",
       "    </tr>\n",
       "    <tr>\n",
       "      <th>6</th>\n",
       "      <td>1750</td>\n",
       "      <td>1</td>\n",
       "      <td>0</td>\n",
       "      <td>0</td>\n",
       "      <td>1</td>\n",
       "      <td>Skinny</td>\n",
       "    </tr>\n",
       "    <tr>\n",
       "      <th>7</th>\n",
       "      <td>1600</td>\n",
       "      <td>1</td>\n",
       "      <td>0</td>\n",
       "      <td>0</td>\n",
       "      <td>0</td>\n",
       "      <td>Skinny</td>\n",
       "    </tr>\n",
       "  </tbody>\n",
       "</table>\n",
       "</div>"
      ],
      "text/plain": [
       "  Calory Breakfast Lunch Dinner Excercise Body Shape\n",
       "0   1200         1     0      0         2     Skinny\n",
       "1   2800         1     1      1         1        Fat\n",
       "2   3500         2     2      1         0     Skinny\n",
       "3   1400         0     1      0         3     Skinny\n",
       "4   1600         1     0      2         0     Normal\n",
       "5   3200         1     2      1         1        Fat\n",
       "6   1750         1     0      0         1     Skinny\n",
       "7   1600         1     0      0         0     Skinny"
      ]
     },
     "execution_count": 8,
     "metadata": {},
     "output_type": "execute_result"
    }
   ],
   "source": [
    "d"
   ]
  },
  {
   "cell_type": "code",
   "execution_count": 9,
   "metadata": {},
   "outputs": [],
   "source": [
    "# Split feature vectors and labels\n",
    "x=d[['Calory','Breakfast','Lunch','Dinner','Excercise']]\n",
    "y=d[['Body Shape']]"
   ]
  },
  {
   "cell_type": "code",
   "execution_count": 10,
   "metadata": {},
   "outputs": [
    {
     "data": {
      "text/html": [
       "<div>\n",
       "<style scoped>\n",
       "    .dataframe tbody tr th:only-of-type {\n",
       "        vertical-align: middle;\n",
       "    }\n",
       "\n",
       "    .dataframe tbody tr th {\n",
       "        vertical-align: top;\n",
       "    }\n",
       "\n",
       "    .dataframe thead th {\n",
       "        text-align: right;\n",
       "    }\n",
       "</style>\n",
       "<table border=\"1\" class=\"dataframe\">\n",
       "  <thead>\n",
       "    <tr style=\"text-align: right;\">\n",
       "      <th></th>\n",
       "      <th>Body Shape</th>\n",
       "    </tr>\n",
       "  </thead>\n",
       "  <tbody>\n",
       "    <tr>\n",
       "      <th>0</th>\n",
       "      <td>Skinny</td>\n",
       "    </tr>\n",
       "    <tr>\n",
       "      <th>1</th>\n",
       "      <td>Fat</td>\n",
       "    </tr>\n",
       "    <tr>\n",
       "      <th>2</th>\n",
       "      <td>Skinny</td>\n",
       "    </tr>\n",
       "    <tr>\n",
       "      <th>3</th>\n",
       "      <td>Skinny</td>\n",
       "    </tr>\n",
       "    <tr>\n",
       "      <th>4</th>\n",
       "      <td>Normal</td>\n",
       "    </tr>\n",
       "    <tr>\n",
       "      <th>5</th>\n",
       "      <td>Fat</td>\n",
       "    </tr>\n",
       "    <tr>\n",
       "      <th>6</th>\n",
       "      <td>Skinny</td>\n",
       "    </tr>\n",
       "    <tr>\n",
       "      <th>7</th>\n",
       "      <td>Skinny</td>\n",
       "    </tr>\n",
       "  </tbody>\n",
       "</table>\n",
       "</div>"
      ],
      "text/plain": [
       "  Body Shape\n",
       "0     Skinny\n",
       "1        Fat\n",
       "2     Skinny\n",
       "3     Skinny\n",
       "4     Normal\n",
       "5        Fat\n",
       "6     Skinny\n",
       "7     Skinny"
      ]
     },
     "execution_count": 10,
     "metadata": {},
     "output_type": "execute_result"
    }
   ],
   "source": [
    "y"
   ]
  },
  {
   "cell_type": "code",
   "execution_count": 11,
   "metadata": {},
   "outputs": [
    {
     "name": "stderr",
     "output_type": "stream",
     "text": [
      "C:\\Users\\ranjitha\\Anaconda3\\lib\\site-packages\\sklearn\\preprocessing\\data.py:625: DataConversionWarning: Data with input dtype object were all converted to float64 by StandardScaler.\n",
      "  return self.partial_fit(X, y)\n",
      "C:\\Users\\ranjitha\\Anaconda3\\lib\\site-packages\\sklearn\\base.py:462: DataConversionWarning: Data with input dtype object were all converted to float64 by StandardScaler.\n",
      "  return self.fit(X, **fit_params).transform(X)\n"
     ]
    }
   ],
   "source": [
    "# The mean of 'Calory' will be very high compared to the means of the other 4 columns....so we have to normalise it \n",
    "# Using StandardScaler (-1,1)\n",
    "\n",
    "from sklearn.preprocessing import StandardScaler\n",
    "x_std=StandardScaler().fit_transform(x)"
   ]
  },
  {
   "cell_type": "code",
   "execution_count": 12,
   "metadata": {},
   "outputs": [
    {
     "data": {
      "text/plain": [
       "array([[-1.11558076,  0.        , -0.90453403, -0.89802651,  1.        ],\n",
       "       [ 0.80112175,  0.        ,  0.30151134,  0.53881591,  0.        ],\n",
       "       [ 1.6396791 ,  2.        ,  1.50755672,  0.53881591, -1.        ],\n",
       "       [-0.87599295, -2.        ,  0.30151134, -0.89802651,  2.        ],\n",
       "       [-0.63640513,  0.        , -0.90453403,  1.97565832, -1.        ],\n",
       "       [ 1.28029738,  0.        ,  1.50755672,  0.53881591,  0.        ],\n",
       "       [-0.45671427,  0.        , -0.90453403, -0.89802651,  0.        ],\n",
       "       [-0.63640513,  0.        , -0.90453403, -0.89802651, -1.        ]])"
      ]
     },
     "execution_count": 12,
     "metadata": {},
     "output_type": "execute_result"
    }
   ],
   "source": [
    "x_std"
   ]
  },
  {
   "cell_type": "code",
   "execution_count": 13,
   "metadata": {},
   "outputs": [
    {
     "name": "stdout",
     "output_type": "stream",
     "text": [
      "[[ 1.14285714  0.71876344  0.99327861  0.50254343 -0.46206221]\n",
      " [ 0.71876344  1.14285714  0.34458439  0.4105264  -0.85714286]\n",
      " [ 0.99327861  0.34458439  1.14285714  0.30944592  0.        ]\n",
      " [ 0.50254343  0.4105264   0.30944592  1.14285714 -0.61578961]\n",
      " [-0.46206221 -0.85714286  0.         -0.61578961  1.14285714]]\n"
     ]
    }
   ],
   # Traditional method using Covariance matrix
   "source": [
    "# Covariance matrix of features\n",
    "\n",
    "# Features are columns from x_std\n",
    "\n",
    "import numpy as np\n",
    "features=x_std.T\n",
    "covariance_matrix=np.cov(features)\n",
    "print(covariance_matrix)\n",
    "\n",
    "#PCA believed that the points which have close cov or corr have more impact\n",
    "#Eigen vector- the respected features....not suppressed\n",
    "\n",
    "# .t means transform"
   ]
  },
  {
   "cell_type": "code",
   "execution_count": 14,
   "metadata": {},
   "outputs": [],
   "source": [
    "# Eigen vectors and eigen values from co-variance matrix \n",
    "#The eigenvector with the largest eigenvalue is the direction along which the data set has the maximum variance.\n",
    "eig_vals,eig_vecs=np.linalg.eig(covariance_matrix)"
   ]
  },
  {
   "cell_type": "code",
   "execution_count": 15,
   "metadata": {},
   "outputs": [
    {
     "name": "stdout",
     "output_type": "stream",
     "text": [
      "\n",
      "Eigen values \n",
      "[3.27441798 1.45624642 0.76738755 0.04381948 0.17241429]\n"
     ]
    }
   ],
   "source": [
    "print('\\nEigen values \\n%s' %eig_vals)"
   ]
  },
  {
   "cell_type": "code",
   "execution_count": 16,
   "metadata": {},
   "outputs": [
    {
     "data": {
      "text/plain": [
       "0.5730231464377992"
      ]
     },
     "execution_count": 16,
     "metadata": {},
     "output_type": "execute_result"
    }
   ],
   "source": [
    "# Reduce dimension to 1 dimension\n",
    "eig_vals[0]/sum(eig_vals)   #...... = 1st principal/performing component"
   ]
  },
  {
   "cell_type": "code",
   "execution_count": 17,
   "metadata": {},
   "outputs": [],
   "source": [
    "# Project datapoint onto selected eigen vector\n",
    "projected_x=x_std.dot(eig_vecs.T[0])"
   ]
  },
  {
   "cell_type": "code",
   "execution_count": 18,
   "metadata": {},
   "outputs": [
    {
     "data": {
      "text/plain": [
       "array([ 1.71587119, -0.7519455 , -3.05488065,  2.52727084, -0.52643918,\n",
       "       -1.46608726,  0.94310598,  0.61310459])"
      ]
     },
     "execution_count": 18,
     "metadata": {},
     "output_type": "execute_result"
    }
   ],
   "source": [
    "projected_x   #.....The columns in the dataset has been converted into 1 influential column....represented on x-axis\n",
    "              # since its unsupervised learning, the value of the y-axis is 0"
   ]
  },
  {
   "cell_type": "code",
   "execution_count": 19,
   "metadata": {},
   "outputs": [
    {
     "data": {
      "text/html": [
       "<div>\n",
       "<style scoped>\n",
       "    .dataframe tbody tr th:only-of-type {\n",
       "        vertical-align: middle;\n",
       "    }\n",
       "\n",
       "    .dataframe tbody tr th {\n",
       "        vertical-align: top;\n",
       "    }\n",
       "\n",
       "    .dataframe thead th {\n",
       "        text-align: right;\n",
       "    }\n",
       "</style>\n",
       "<table border=\"1\" class=\"dataframe\">\n",
       "  <thead>\n",
       "    <tr style=\"text-align: right;\">\n",
       "      <th></th>\n",
       "      <th>PC1</th>\n",
       "      <th>y-axis</th>\n",
       "      <th>label</th>\n",
       "    </tr>\n",
       "  </thead>\n",
       "  <tbody>\n",
       "    <tr>\n",
       "      <th>0</th>\n",
       "      <td>1.715871</td>\n",
       "      <td>0.0</td>\n",
       "      <td>Skinny</td>\n",
       "    </tr>\n",
       "    <tr>\n",
       "      <th>1</th>\n",
       "      <td>-0.751945</td>\n",
       "      <td>0.0</td>\n",
       "      <td>Fat</td>\n",
       "    </tr>\n",
       "    <tr>\n",
       "      <th>2</th>\n",
       "      <td>-3.054881</td>\n",
       "      <td>0.0</td>\n",
       "      <td>Skinny</td>\n",
       "    </tr>\n",
       "    <tr>\n",
       "      <th>3</th>\n",
       "      <td>2.527271</td>\n",
       "      <td>0.0</td>\n",
       "      <td>Skinny</td>\n",
       "    </tr>\n",
       "    <tr>\n",
       "      <th>4</th>\n",
       "      <td>-0.526439</td>\n",
       "      <td>0.0</td>\n",
       "      <td>Normal</td>\n",
       "    </tr>\n",
       "    <tr>\n",
       "      <th>5</th>\n",
       "      <td>-1.466087</td>\n",
       "      <td>0.0</td>\n",
       "      <td>Fat</td>\n",
       "    </tr>\n",
       "    <tr>\n",
       "      <th>6</th>\n",
       "      <td>0.943106</td>\n",
       "      <td>0.0</td>\n",
       "      <td>Skinny</td>\n",
       "    </tr>\n",
       "    <tr>\n",
       "      <th>7</th>\n",
       "      <td>0.613105</td>\n",
       "      <td>0.0</td>\n",
       "      <td>Skinny</td>\n",
       "    </tr>\n",
       "  </tbody>\n",
       "</table>\n",
       "</div>"
      ],
      "text/plain": [
       "        PC1  y-axis   label\n",
       "0  1.715871     0.0  Skinny\n",
       "1 -0.751945     0.0     Fat\n",
       "2 -3.054881     0.0  Skinny\n",
       "3  2.527271     0.0  Skinny\n",
       "4 -0.526439     0.0  Normal\n",
       "5 -1.466087     0.0     Fat\n",
       "6  0.943106     0.0  Skinny\n",
       "7  0.613105     0.0  Skinny"
      ]
     },
     "execution_count": 19,
     "metadata": {},
     "output_type": "execute_result"
    }
   ],
   "source": [
    "result=pd.DataFrame(projected_x,columns=['PC1'])   # PC1=Principal Component 1\n",
    "result['y-axis']=0.0\n",
    "result['label']=y\n",
    "result"
   ]
  },
  {
   "cell_type": "code",
   "execution_count": 20,
   "metadata": {},
   "outputs": [],
   "source": [
    "import matplotlib.pyplot as plt\n",
    "import seaborn as sns\n",
    "%matplotlib inline"
   ]
  },
  {
   "cell_type": "code",
   "execution_count": 21,
   "metadata": {},
   "outputs": [
    {
     "data": {
      "text/plain": [
       "Text(0.5, 1.0, 'PCA result')"
      ]
     },
     "execution_count": 21,
     "metadata": {},
     "output_type": "execute_result"
    },
    {
     "data": {
      "image/png": "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\n",
      "text/plain": [
       "<Figure size 432.25x360 with 1 Axes>"
      ]
     },
     "metadata": {
      "needs_background": "light"
     },
     "output_type": "display_data"
    }
   ],
   "source": [
    "sns.lmplot('PC1','y-axis',data=result,fit_reg=False,scatter_kws={'s':50},hue='label')\n",
    "\n",
    "#title\n",
    "plt.title('PCA result')\n",
    "\n",
    "# hue='label' .....unknown labels\n",
    "# fit_reg.... fit regression"
   ]
  },
  {
   "cell_type": "code",
   "execution_count": null,
   "metadata": {},
   "outputs": [],
   "source": []
  }
 ],
 "metadata": {
  "kernelspec": {
   "display_name": "Python 3",
   "language": "python",
   "name": "python3"
  },
  "language_info": {
   "codemirror_mode": {
    "name": "ipython",
    "version": 3
   },
   "file_extension": ".py",
   "mimetype": "text/x-python",
   "name": "python",
   "nbconvert_exporter": "python",
   "pygments_lexer": "ipython3",
   "version": "3.7.1"
  }
 },
 "nbformat": 4,
 "nbformat_minor": 2
}

